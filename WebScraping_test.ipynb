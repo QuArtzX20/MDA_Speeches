{
 "cells": [
  {
   "cell_type": "markdown",
   "metadata": {},
   "source": [
    "### I'm using this script to test out webscraping using beautifulsoup package."
   ]
  },
  {
   "cell_type": "code",
   "execution_count": 6,
   "metadata": {},
   "outputs": [
    {
     "name": "stdout",
     "output_type": "stream",
     "text": [
      "Note: you may need to restart the kernel to use updated packages.\n"
     ]
    }
   ],
   "source": [
    "#insert code here\n",
    "#tutorial ref: https://realpython.com/beautiful-soup-web-scraper-python/"
   ]
  }
 ],
 "metadata": {
  "interpreter": {
   "hash": "c1b1bab3e80efc368fc0475a43ad2a6dddbd414ce5120198737887c91ef7b292"
  },
  "kernelspec": {
   "display_name": "Python 3.10.4 ('MDA_Speech')",
   "language": "python",
   "name": "python3"
  },
  "language_info": {
   "codemirror_mode": {
    "name": "ipython",
    "version": 3
   },
   "file_extension": ".py",
   "mimetype": "text/x-python",
   "name": "python",
   "nbconvert_exporter": "python",
   "pygments_lexer": "ipython3",
   "version": "3.10.4"
  },
  "orig_nbformat": 4
 },
 "nbformat": 4,
 "nbformat_minor": 2
}
