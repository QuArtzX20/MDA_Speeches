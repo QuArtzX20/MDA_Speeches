{
 "cells": [
  {
   "cell_type": "markdown",
   "metadata": {},
   "source": [
    "### I'm using this script to test out webscraping using beautifulsoup package."
   ]
  },
  {
   "cell_type": "markdown",
   "metadata": {},
   "source": [
    "Basic setup and site access."
   ]
  },
  {
   "cell_type": "code",
   "execution_count": null,
   "metadata": {},
   "outputs": [],
   "source": [
    "import requests\n",
    "\n",
    "MainURL='https://www.americanrhetoric.com/top100speechesall.html'\n",
    "MainPage= requests.get(MainURL, headers={'user-agent': 'Mozilla/5.0'})"
   ]
  },
  {
   "cell_type": "markdown",
   "metadata": {},
   "source": [
    "Obtaining URL list from main webpage and storing them as list variable."
   ]
  },
  {
   "cell_type": "code",
   "execution_count": null,
   "metadata": {},
   "outputs": [],
   "source": [
    "from bs4 import BeautifulSoup\n",
    "soup= BeautifulSoup(MainPage.content, 'html.parser')\n",
    "mainlinks=[a['href'] for a in soup.find_all('a',href=True)   \n",
    "    if 'off site' in a.text \n",
    "    or a['href'].startswith('speeches') and 'PDFFiles' not in a['href']\n",
    "    or 'Belief and Public Morality' in a.text]"
   ]
  },
  {
   "cell_type": "markdown",
   "metadata": {},
   "source": [
    "Test script for first speech, will replace URL with iteration over URL list mainlinks."
   ]
  },
  {
   "cell_type": "code",
   "execution_count": 116,
   "metadata": {},
   "outputs": [
    {
     "name": "stdout",
     "output_type": "stream",
     "text": [
      "I am happy to join with you today in what will go down in history as\n",
      "the greatest demonstration for freedom in the history of our nation.\n",
      "Five score years ago,a great American, in whose symbolic shadow we\n",
      "stand today, signed theEmancipation Proclamation. This momentous decree came as a great\n",
      "beacon light of hope to millions of Negro slaves who had been seared in the flames of\n",
      "withering injustice. It came as a joyous daybreak to end the long night of their\n",
      "captivity.\n",
      "But one hundred years later, the Negro still is not free. One\n",
      "hundred years later, the life of the Negro is still sadly crippled by the manacles of\n",
      "segregation and the chains of discrimination. One hundred years later, the Negro lives on a\n",
      "lonely island of poverty in the midst of a vast ocean of material prosperity. One hundred\n",
      "years later, the Negro is still languished in the corners of American society and finds\n",
      "himself an exile in his own land. And so we've come here today to dramatize a shameful\n",
      "condition.\n",
      "In a sense we've come to our nation's capital to cash a check.\n",
      "When the architects of our republic wrote the magnificent words of the Constitution and\n",
      "theDeclaration of Independence, they were signing a promissory note to which every\n",
      "American was to fall heir. This note was a promise that all men, yes, black men as well as\n",
      "white men, would be guaranteed the \"unalienable Rights\" of \"Life, Liberty and the pursuit of \n",
      "\t\t\tHappiness.\" It is obvious today that America has defaulted on this promissory note, insofar\n",
      "as her citizens of color are concerned. Instead of honoring this sacred obligation,\n",
      "America has given the Negro people a bad check, a check which has come back marked\n",
      "\"insufficient funds.\"\n",
      "But we refuse to believe that the bank of justice is bankrupt. We\n",
      "refuse to believe that there are insufficient funds in the great vaults of opportunity of\n",
      "this nation. And so, we've come to cash this check, a check that will give us upon demand\n",
      "the riches of freedom and the security of justice.\n",
      "We have also come to this hallowed spot to remind America of the\n",
      "fierce urgency of Now. This is no time to engage in the luxury of cooling off or to take\n",
      "the tranquilizing drug of gradualism. Now is the time to make real the promises of\n",
      "democracy. Now is the time to rise from the dark and desolate valley of segregation to the\n",
      "sunlit path of racial justice. Now is the time to lift our nation from the quicksands of\n",
      "racial injustice to the solid rock of brotherhood. Now is the time to make justice a\n",
      "reality for all of God's children.\n",
      "It would be fatal for the nation to overlook the urgency of the\n",
      "moment. This sweltering summer of the Negro's legitimate discontent will not pass until\n",
      "there is an invigorating autumn of freedom and equality. Nineteen sixty-three is not an\n",
      "end, but a beginning. And those who hope that the Negro needed to blow off steam and will now\n",
      "be content will have a rude awakening if the nation returns to business as usual.\n",
      "\t\t\tAnd there will be neither rest nor tranquility in America until the Negro is granted his\n",
      "citizenship rights. The whirlwinds of revolt will continue to shake the foundations of our\n",
      "nation until the bright day of justice emerges.\n",
      "But there is something that I must say to my people, who stand on the\n",
      "warm threshold which leads into the palace of justice: In the process of gaining our\n",
      "rightful place, we must not be guilty of wrongful deeds. Let us not seek to satisfy our\n",
      "thirst for freedom by drinking from the cup of bitterness and hatred. We must \n",
      "\t\t\tforever conduct\n",
      "our struggle on the high plane of dignity and discipline. We must not allow our creative\n",
      "protest to degenerate into physical violence. Again and again, we must rise to the majestic\n",
      "heights of meeting physical force with soul force.\n",
      "The marvelous new militancy which has engulfed the Negro community\n",
      "must not lead us to a distrust of all white people, for many of our white brothers, as\n",
      "evidenced by their presence here today, have come to realize that their destiny is tied up\n",
      "with our destiny. And they have come to realize that their freedom is inextricably bound\n",
      "to our freedom.\n",
      "We cannot walk alone.\n",
      "And as we walk, we must make the pledge that we shall always march\n",
      "ahead.\n",
      "We cannot turn back.\n",
      "There are those who are asking the devotees of civil rights,\n",
      "\"When will you be satisfied?\" We can never be satisfied as long as the Negro is\n",
      "the victim of the unspeakable horrors of police brutality. We can never be satisfied as\n",
      "long as our bodies, heavy with the fatigue of travel, cannot gain lodging in the motels of\n",
      "the highways and the hotels of the cities.**We \n",
      "\t\t\tcannot be satisfied as long as the negro's basic mobility is from a \n",
      "\t\t\tsmaller ghetto to a larger one. We can never be satisfied as long as \n",
      "\t\t\tour children are stripped of their self-hood and robbed of their \n",
      "\t\t\tdignity by signs stating: \"For Whites Only.\"**We cannot be satisfied as long as a Negro in\n",
      "Mississippi cannot vote and a Negro in New York believes he has nothing for which to vote.\n",
      "No, no, we are not satisfied, and we will not be satisfied until \"justice rolls down like\n",
      "waters, and righteousness like a mighty stream.\"\n",
      "1\n",
      "\n",
      "I am not unmindful that some of you have come here out of great\n",
      "trials and tribulations. Some of you have come fresh from narrow jail cells. And \n",
      "\t\t\tsome of you\n",
      "have come from areas where your quest -- quest for freedom left you battered by the storms of\n",
      "persecution and staggered by the winds of police brutality. You have been the veterans of\n",
      "creative suffering. Continue to work with the faith that unearned suffering is redemptive.\n",
      "Go back to Mississippi, go back to Alabama, go back to South Carolina, go back to Georgia,\n",
      "go back to Louisiana, go back to the slums and ghettos of our northern cities, knowing\n",
      "that somehow this situation can and will be changed.\n",
      "Let us not wallow in the valley of\n",
      "despair, I say to you today, my friends.\n",
      "And so even though we face the difficulties of\n",
      "today and tomorrow, I still have a dream. It is a dream deeply rooted in the American\n",
      "dream.\n",
      "I have a dream that one day this nation will rise up and live out\n",
      "the true meaning of its creed: \"We hold these truths to be self-evident, that all men are\n",
      "created equal.\"\n",
      "I have a dream that one day on the red hills of Georgia, the sons of\n",
      "former slaves and the sons of former slave owners will be able to sit down together at the\n",
      "table of brotherhood.\n",
      "I have a dream that one day even the state of Mississippi, a state\n",
      "sweltering with the heat of injustice, sweltering with the heat of oppression, will be\n",
      "transformed into an oasis of freedom and justice.\n",
      "I have a dream that my four little children will one day live in a\n",
      "nation where they will not be judged by the color of their skin but by the content of\n",
      "their character.\n",
      "I have adreamtoday!\n",
      "I have a dream that one day,down in Alabama, with its\n",
      "vicious racists, with its governor having his lips dripping with the words of\n",
      "\t\t\t\"interposition\" and \"nullification\" -- one day right there in Alabama little black boys and black\n",
      "girls will be able to join hands with little white boys and white girls as sisters and\n",
      "brothers.\n",
      "I have adreamtoday!\n",
      "I have a dream that one day every valley shall be exalted, and every\n",
      "hill and mountain shall be made low, the rough places will be made plain, and \n",
      "\t\t\tthe crooked places will be made straight; \"and the glory of the Lord shall be revealed and all flesh\n",
      "shall see it together.\"\n",
      "2\n",
      "This is our hope, and \n",
      "\t\t\tthis is the faith that I go back to the South\n",
      "with.\n",
      "With this faith, we will be able to hew out of the mountain of despair a stone of\n",
      "hope. With this faith, we will be able to transform the jangling discords of our nation\n",
      "into a beautiful symphony of brotherhood. With this faith, we will be able to work\n",
      "together, to pray together, to struggle together, to go to jail together, to stand up for\n",
      "freedom together, knowing that we will be free one day.\n",
      "And this will be the day \n",
      "\t\t\t-- this will be the day when all of God's children will be able to \n",
      "\t\t\tsing with new meaning:\n",
      "My country 'tis of thee, sweet land of liberty, of thee I \n",
      "\t\t\t\t\tsing. Land where my fathers died, land of the Pilgrim's pride,    From every mountainside, let freedom ring!\n",
      "And if\n",
      "America is to be a great nation, this must become true.\n",
      "And so let freedom ring from the prodigious hilltops of New Hampshire.\n",
      "Let freedom ring from the mighty mountains of New York.\n",
      "Let freedom ring from the heightening Alleghenies of\n",
      "Pennsylvania.\n",
      "Let freedom ring from the snow-capped Rockies of Colorado.\n",
      "Let freedom ring from the curvaceous slopes of California.\n",
      "But not only that:\n",
      "Let freedom ring from Stone Mountain of Georgia.\n",
      "Let freedom ring from Lookout Mountain of Tennessee.\n",
      "Let freedom ring from every hill and molehill of Mississippi.\n",
      "From every mountainside, let freedom ring.\n",
      "And when this happens, \n",
      "\t\t\tand when we allow freedom ring,\n",
      "when we let it ring from every village and every hamlet, from every state and every city,\n",
      "we will be able to speed up that day whenallof God's children, black men and\n",
      "white men, Jews and Gentiles, Protestants and Catholics, will be able to join hands and\n",
      "sing in the words of the old Negro spiritual:\n",
      "Free at last! Free at last!\n",
      "Thank God Almighty, we are free at last!\n",
      "3\n"
     ]
    }
   ],
   "source": [
    "URL='https://www.americanrhetoric.com/'+mainlinks[0]\n",
    "Page=requests.get(URL, headers={'user-agent': 'Mozilla/5.0'})\n",
    "speechsoup=BeautifulSoup(Page.content, 'html.parser')\n",
    "for p in speechsoup.find_all(\"font\",{'face':'Verdana'}):\n",
    "    print(p.get_text(strip=True))"
   ]
  },
  {
   "cell_type": "code",
   "execution_count": null,
   "metadata": {},
   "outputs": [],
   "source": []
  }
 ],
 "metadata": {
  "interpreter": {
   "hash": "c1b1bab3e80efc368fc0475a43ad2a6dddbd414ce5120198737887c91ef7b292"
  },
  "kernelspec": {
   "display_name": "Python 3.10.4 ('MDA_Speech')",
   "language": "python",
   "name": "python3"
  },
  "language_info": {
   "codemirror_mode": {
    "name": "ipython",
    "version": 3
   },
   "file_extension": ".py",
   "mimetype": "text/x-python",
   "name": "python",
   "nbconvert_exporter": "python",
   "pygments_lexer": "ipython3",
   "version": "3.10.4"
  },
  "orig_nbformat": 4
 },
 "nbformat": 4,
 "nbformat_minor": 2
}
